{
 "cells": [
  {
   "cell_type": "markdown",
   "id": "5fe41dbe-da97-4f29-a20b-05145fdecfe1",
   "metadata": {},
   "source": [
    "FPGA ML inference with oneAPI backend"
   ]
  },
  {
   "cell_type": "code",
   "execution_count": null,
   "id": "a9b6e6fd-a294-44bc-8b80-6e5d5408f877",
   "metadata": {},
   "outputs": [
    {
     "name": "stdout",
     "output_type": "stream",
     "text": [
      "/opt/intel/oneapi/compiler/2024.2/bin/icpx\n"
     ]
    }
   ],
   "source": [
    "!which icpx"
   ]
  },
  {
   "cell_type": "code",
   "execution_count": null,
   "id": "d8597340-7981-4207-967a-30e9501b8925",
   "metadata": {
    "scrolled": true
   },
   "outputs": [],
   "source": [
    "import os; os.environ['TF_CPP_MIN_LOG_LEVEL'] = '3' \n",
    "\n",
    "import tensorflow as tf; tf.get_logger().setLevel('INFO')\n",
    "\n",
    "import hls4ml\n",
    "import matplotlib.pyplot as plt\n",
    "\n",
    "from tensorflow.keras.models import Sequential\n",
    "from tensorflow.keras.layers import Dense, GRU, Conv1D, Conv2D, Flatten, MaxPool1D, MaxPool2D, Activation, BatchNormalization, Dropout\n",
    "from tensorflow.keras.losses import MSE\n",
    "from tensorflow.keras.optimizers import Adam\n",
    "import numpy as np"
   ]
  },
  {
   "cell_type": "markdown",
   "id": "9b8ee1f2-9540-4a6f-8984-172034a72d92",
   "metadata": {},
   "source": [
    "Example of Conv1D layers followed by GRU (dma hostpipe)\n",
    "\n"
   ]
  },
  {
   "cell_type": "code",
   "execution_count": 30,
   "id": "5e2f6fd6-f2fa-44a7-b749-a46a9405c4d4",
   "metadata": {},
   "outputs": [],
   "source": [
    "model = Sequential()\n",
    "model.add(Conv1D(16, kernel_size=3, padding='same', input_shape=(32,3)))\n",
    "model.add(Activation(activation='relu', name='relu1'))\n",
    "model.add(GRU(16))\n",
    "model.compile(loss='mse', optimizer=Adam())"
   ]
  },
  {
   "cell_type": "code",
   "execution_count": null,
   "id": "471fe60b-2f09-47cb-b21d-410e6c327017",
   "metadata": {},
   "outputs": [
    {
     "name": "stdout",
     "output_type": "stream",
     "text": [
      "Interpreting Sequential\n",
      "Topology:\n",
      "Layer name: conv1d_4_input, layer type: InputLayer, input shapes: [[None, 32, 3]], output shape: [None, 32, 3]\n",
      "Layer name: conv1d_4, layer type: Conv1D, input shapes: [[None, 32, 3]], output shape: [None, 32, 16]\n",
      "Layer name: relu1, layer type: Activation, input shapes: [[None, 32, 16]], output shape: [None, 32, 16]\n",
      "Layer name: gru_4, layer type: GRU, input shapes: [[None, 32, 16]], output shape: [None, 16]\n",
      "Creating HLS model\n"
     ]
    }
   ],
   "source": [
    "hls_model = hls4ml.converters.convert_from_keras_model(\n",
    "    model=model,\n",
    "    output_dir=\"hostpipe\",\n",
    "    backend=\"oneAPI\",\n",
    "    part=\"Agilex7\")"
   ]
  },
  {
   "cell_type": "code",
   "execution_count": 33,
   "id": "1e1d1b3f-2eaf-4cc3-bbff-ddd39de27d4f",
   "metadata": {
    "scrolled": true
   },
   "outputs": [
    {
     "name": "stdout",
     "output_type": "stream",
     "text": [
      "Writing HLS project\n",
      "Done\n"
     ]
    }
   ],
   "source": [
    "# Write the project to disk and invoke oneAPI backend\n",
    "hls_model.compile()"
   ]
  },
  {
   "cell_type": "code",
   "execution_count": 34,
   "id": "9c9376b6-92ac-405b-a9da-60f960575011",
   "metadata": {},
   "outputs": [
    {
     "data": {
      "text/plain": [
       "array([[ 0.34667969, -0.32226562,  0.49316406, -0.2265625 , -0.48046875,\n",
       "        -0.55273438, -0.04882812, -0.16699219,  0.21972656, -0.31347656,\n",
       "         0.25390625, -0.15820312,  0.17578125,  0.2890625 ,  0.30957031,\n",
       "         0.06054688],\n",
       "       [ 0.34667969, -0.32226562,  0.49316406, -0.2265625 , -0.48046875,\n",
       "        -0.55273438, -0.04882812, -0.16699219,  0.21972656, -0.31347656,\n",
       "         0.25390625, -0.15820312,  0.17578125,  0.2890625 ,  0.30957031,\n",
       "         0.06054688],\n",
       "       [ 0.34667969, -0.32226562,  0.49316406, -0.2265625 , -0.48046875,\n",
       "        -0.55273438, -0.04882812, -0.16699219,  0.21972656, -0.31347656,\n",
       "         0.25390625, -0.15820312,  0.17578125,  0.2890625 ,  0.30957031,\n",
       "         0.06054688]])"
      ]
     },
     "execution_count": 34,
     "metadata": {},
     "output_type": "execute_result"
    }
   ],
   "source": [
    "X_test = np.ones((3, 32, 3))\n",
    "hls_model.predict(X_test)"
   ]
  },
  {
   "cell_type": "markdown",
   "id": "2e5d80cc",
   "metadata": {},
   "source": [
    "Get dense streaming"
   ]
  },
  {
   "cell_type": "code",
   "execution_count": null,
   "id": "faf22038",
   "metadata": {},
   "outputs": [],
   "source": [
    "def get_dense():\n",
    "    model = Sequential()\n",
    "    model.add(Dense(4, input_shape=(8,), name='fc1'))\n",
    "    model.add(Dense(2, name='fc2'))\n",
    "    model.compile()\n",
    "    model.summary()\n",
    "    config = hls4ml.utils.config_from_keras_model(model, granularity='name', default_precision='ac_fixed<16, 6>')\n",
    "    hls_model = hls4ml.converters.convert_from_keras_model(model=model, output_dir=\"dense_streaming\", backend=\"oneAPI\", part=\"Agilex7\", io_type=\"io_stream\", hls_config=config)\n",
    "    return model, config, hls_model\n",
    "mlp_cpu, config, mlp_hls = get_dense()\n",
    "mlp_hls.compile()\n",
    "mlp_hls.predict(np.ones(8))"
   ]
  },
  {
   "cell_type": "markdown",
   "id": "d151759e-e371-43c3-b1ec-c0e6d7c59c47",
   "metadata": {
    "jp-MarkdownHeadingCollapsed": true
   },
   "source": [
    "MLP streaming"
   ]
  },
  {
   "cell_type": "code",
   "execution_count": null,
   "id": "2cff8d32-c2f4-41b0-8ee5-e4d5bc2b7ea2",
   "metadata": {},
   "outputs": [],
   "source": [
    "def get_mlp():\n",
    "    model = Sequential()\n",
    "    model.add(Dense(4, input_shape=(8,), name='fc1'))\n",
    "    model.add(Activation(activation='relu', name='relu1'))\n",
    "    model.add(Dense(2, name='fc2'))\n",
    "    model.add(Activation(activation='relu', name='relu2'))\n",
    "    model.compile()\n",
    "    model.summary()\n",
    "    config = hls4ml.utils.config_from_keras_model(model, granularity='name', default_precision='ac_fixed<16, 6>')\n",
    "    hls_model = hls4ml.converters.convert_from_keras_model(model=model, output_dir=\"mlp_streaming\", backend=\"oneAPI\", part=\"Agilex7\", io_type=\"io_stream\", hls_config=config)\n",
    "    return model, config, hls_model\n",
    "mlp_cpu, config, mlp_hls = get_mlp()"
   ]
  },
  {
   "cell_type": "code",
   "execution_count": null,
   "id": "afa6da72-432f-4a28-916f-bfb098408ff3",
   "metadata": {},
   "outputs": [],
   "source": [
    "def get_larger_mlp():\n",
    "    model = Sequential()\n",
    "    model.add(Dense(64, input_shape=(16,), name='fc1', kernel_initializer='lecun_uniform'))\n",
    "    model.add(Activation(activation='relu', name='relu1'))\n",
    "    model.add(Dense(32, name='fc2', kernel_initializer='lecun_uniform'))\n",
    "    model.add(Activation(activation='relu', name='relu2'))\n",
    "    model.add(Dense(32, name='fc3', kernel_initializer='lecun_uniform'))\n",
    "    model.add(Activation(activation='relu', name='relu3'))\n",
    "    model.add(Dense(5, name='output', kernel_initializer='lecun_uniform'))\n",
    "    model.add(Activation(activation='softmax', name='softmax'))\n",
    "    model.compile(loss='mse', optimizer=Adam())\n",
    "    model.summary()\n",
    "\n",
    "    config = hls4ml.utils.config_from_keras_model(model, granularity='name', default_precision='ac_fixed<16, 6>')\n",
    "    hls_model = hls4ml.converters.convert_from_keras_model(model=model, output_dir=\"model_mlp_out\", backend=\"oneAPI\", part=\"Agilex7\", hls_config=config)\n",
    "\n",
    "    return model, config, hls_model\n",
    "\n",
    "mlp_cpu, config, mlp_hls = get_larger_mlp()\n",
    "mlp_hls.compile()\n",
    "mlp_hls.predict(np.ones(8))"
   ]
  },
  {
   "cell_type": "markdown",
   "id": "bfa41472-1431-499b-93fe-8781ccb889d3",
   "metadata": {
    "jp-MarkdownHeadingCollapsed": true
   },
   "source": [
    "CNN - MNIST"
   ]
  },
  {
   "cell_type": "code",
   "execution_count": null,
   "id": "ee582768-f534-4137-af45-d9ed37fb337f",
   "metadata": {},
   "outputs": [],
   "source": [
    "def get_cnn():\n",
    "    model = Sequential()\n",
    "    model.add(Conv2D(5, (4, 4), input_shape=(5, 5, 3)))\n",
    "    model.compile()\n",
    "    \n",
    "    config = hls4ml.utils.config_from_keras_model(model, granularity='name', default_precision='ac_fixed<16, 6>')\n",
    "    hls_model = hls4ml.converters.convert_from_keras_model(model=model, output_dir=\"model_cnn_out\", io_type=\"io_stream\", backend=\"oneAPI\", part=\"Agilex7\", hls_config=config)\n",
    "\n",
    "    return model, config, hls_model\n",
    "\n",
    "cnn_cpu, config, cnn_hls = get_cnn()"
   ]
  },
  {
   "cell_type": "code",
   "execution_count": null,
   "id": "73e2b580-5575-4ce5-b2d7-907ec3aaba59",
   "metadata": {},
   "outputs": [],
   "source": [
    "def get_cnn():\n",
    "    model = Sequential()\n",
    "    model.add(Conv2D(16, (3, 3), activation='relu', padding='same', input_shape=(28, 28, 1)))\n",
    "    model.add(MaxPool2D(pool_size=(2, 2)))\n",
    "    model.add(Conv2D(32, (3, 3), activation='relu', padding='same'))\n",
    "    model.add(MaxPool2D(pool_size=(2, 2)))\n",
    "    model.add(Flatten())\n",
    "    model.add(Dense(10, activation='softmax'))\n",
    "    model.compile(optimizer='adam', loss='categorical_crossentropy', metrics=['accuracy'])\n",
    "    model.summary()\n",
    "\n",
    "    config = hls4ml.utils.config_from_keras_model(model, granularity='name', default_precision='ac_fixed<16, 6>')\n",
    "    hls_model = hls4ml.converters.convert_from_keras_model(model=model, output_dir=\"model_cnn_out\", backend=\"oneAPI\", part=\"Agilex7\", hls_config=config)\n",
    "\n",
    "    return model, config, hls_model\n",
    "\n",
    "cnn_cpu, config, cnn_hls = get_cnn()"
   ]
  },
  {
   "cell_type": "code",
   "execution_count": null,
   "id": "359f4663-e493-4776-9eb3-07ca054ca982",
   "metadata": {},
   "outputs": [],
   "source": [
    "cnn_hls.compile()"
   ]
  },
  {
   "cell_type": "code",
   "execution_count": null,
   "id": "ee82fbf2-6836-424a-b7a0-8f949eeede50",
   "metadata": {},
   "outputs": [],
   "source": [
    "cnn_cpu.predict(np.ones((1,5,5,3)))"
   ]
  },
  {
   "cell_type": "markdown",
   "id": "5f774f2f-c50e-463d-835d-09768beaea85",
   "metadata": {},
   "source": [
    "## Library and Layer Support\n",
    "\n",
    "### ML framework support:\n",
    "\n",
    "(Q)Keras\n",
    "\n",
    "PyTorch\n",
    "\n",
    "(Q)ONNX (in development)\n",
    "\n",
    "### Neural network architectures:\n",
    "\n",
    "Fully connected NN (multilayer perceptron, MLP)\n",
    "\n",
    "Convolutional NN\n",
    "\n",
    "Recurrent NN (LSTM, GRU)\n",
    "\n",
    "Graph NN (GarNet)\n",
    "\n",
    "### Layers:\n",
    "\n",
    "- Core Layers\n",
    "\n",
    "InputLayer, Dropout, Flatten, Dense, TernaryDense, BinaryDense, Transpose, Resize\n",
    "\n",
    "- Convolution\n",
    "\n",
    "Conv1D, Conv2D\n",
    "\n",
    "- Pooling\n",
    "\n",
    "MaxPooling1D, MaxPooling2D, AveragePooling1D, AveragePooling2D\n",
    "\n",
    "- Normalization\n",
    "\n",
    "BatchNormalization\n",
    "\n",
    "- Activation\n",
    "\n",
    "LeakyReLU, ThresholdedReLU, Sigmoid, ELU, PReLU, TanH, Binary TanH, Softmax, Softsign, SELU Activation"
   ]
  }
 ],
 "metadata": {
  "kernelspec": {
   "display_name": "Python 3 (ipykernel)",
   "language": "python",
   "name": "python3"
  },
  "language_info": {
   "codemirror_mode": {
    "name": "ipython",
    "version": 3
   },
   "file_extension": ".py",
   "mimetype": "text/x-python",
   "name": "python",
   "nbconvert_exporter": "python",
   "pygments_lexer": "ipython3",
   "version": "3.10.6"
  }
 },
 "nbformat": 4,
 "nbformat_minor": 5
}
